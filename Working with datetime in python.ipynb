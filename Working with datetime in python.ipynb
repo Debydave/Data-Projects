{
 "cells": [
  {
   "cell_type": "markdown",
   "id": "a886938b-01c4-40f0-bfe4-0d54cc0302ff",
   "metadata": {},
   "source": [
    "EXPLORING DATETIME IN PYTHON"
   ]
  },
  {
   "cell_type": "code",
   "execution_count": 2,
   "id": "928526ff-4754-41eb-a1d2-e83fc48b2ecf",
   "metadata": {},
   "outputs": [],
   "source": [
    "import pandas as pd\n",
    "import numpy as np\n",
    "from datetime import datetime, timedelta, timezone"
   ]
  },
  {
   "cell_type": "code",
   "execution_count": 3,
   "id": "e2bb1d72-316c-4f43-a2a7-f402d83521e5",
   "metadata": {},
   "outputs": [
    {
     "data": {
      "text/html": [
       "<div>\n",
       "<style scoped>\n",
       "    .dataframe tbody tr th:only-of-type {\n",
       "        vertical-align: middle;\n",
       "    }\n",
       "\n",
       "    .dataframe tbody tr th {\n",
       "        vertical-align: top;\n",
       "    }\n",
       "\n",
       "    .dataframe thead th {\n",
       "        text-align: right;\n",
       "    }\n",
       "</style>\n",
       "<table border=\"1\" class=\"dataframe\">\n",
       "  <thead>\n",
       "    <tr style=\"text-align: right;\">\n",
       "      <th></th>\n",
       "      <th>Start date</th>\n",
       "      <th>End date</th>\n",
       "      <th>Start station number</th>\n",
       "      <th>Start station</th>\n",
       "      <th>End station number</th>\n",
       "      <th>End station</th>\n",
       "      <th>Bike number</th>\n",
       "      <th>Member type</th>\n",
       "    </tr>\n",
       "  </thead>\n",
       "  <tbody>\n",
       "    <tr>\n",
       "      <th>0</th>\n",
       "      <td>2017-10-01 15:23:25</td>\n",
       "      <td>2017-10-01 15:26:26</td>\n",
       "      <td>31038</td>\n",
       "      <td>Glebe Rd &amp; 11th St N</td>\n",
       "      <td>31036</td>\n",
       "      <td>George Mason Dr &amp; Wilson Blvd</td>\n",
       "      <td>W20529</td>\n",
       "      <td>Member</td>\n",
       "    </tr>\n",
       "    <tr>\n",
       "      <th>1</th>\n",
       "      <td>2017-10-01 15:42:57</td>\n",
       "      <td>2017-10-01 17:49:59</td>\n",
       "      <td>31036</td>\n",
       "      <td>George Mason Dr &amp; Wilson Blvd</td>\n",
       "      <td>31036</td>\n",
       "      <td>George Mason Dr &amp; Wilson Blvd</td>\n",
       "      <td>W20529</td>\n",
       "      <td>Casual</td>\n",
       "    </tr>\n",
       "  </tbody>\n",
       "</table>\n",
       "</div>"
      ],
      "text/plain": [
       "            Start date             End date  Start station number  \\\n",
       "0  2017-10-01 15:23:25  2017-10-01 15:26:26                 31038   \n",
       "1  2017-10-01 15:42:57  2017-10-01 17:49:59                 31036   \n",
       "\n",
       "                   Start station  End station number  \\\n",
       "0           Glebe Rd & 11th St N               31036   \n",
       "1  George Mason Dr & Wilson Blvd               31036   \n",
       "\n",
       "                     End station Bike number Member type  \n",
       "0  George Mason Dr & Wilson Blvd      W20529      Member  \n",
       "1  George Mason Dr & Wilson Blvd      W20529      Casual  "
      ]
     },
     "execution_count": 3,
     "metadata": {},
     "output_type": "execute_result"
    }
   ],
   "source": [
    "df = pd.read_csv('capital-onebike.csv')\n",
    "df.head(2)"
   ]
  },
  {
   "cell_type": "code",
   "execution_count": 4,
   "id": "15668afc-f3ec-4e71-ab1d-e36a53a23b60",
   "metadata": {},
   "outputs": [
    {
     "name": "stdout",
     "output_type": "stream",
     "text": [
      "{'Before Noon': 94, 'After Noon': 196}\n"
     ]
    }
   ],
   "source": [
    "#find the numer of cutomers that rented bikes before and after noon\n",
    "\n",
    "df['Start date'] = pd.to_datetime(df['Start date'])\n",
    "trip_counts = {'Before Noon':0, 'After Noon':0}\n",
    "\n",
    "for index, row in df.iterrows():\n",
    "    if row['Start date'].hour < 12:\n",
    "        trip_counts['Before Noon'] += 1\n",
    "    else: \n",
    "        trip_counts['After Noon'] += 1\n",
    "\n",
    "print(trip_counts)"
   ]
  },
  {
   "cell_type": "code",
   "execution_count": 5,
   "id": "19112645-c2d7-4dda-9924-f0afe528a61f",
   "metadata": {},
   "outputs": [
    {
     "name": "stdout",
     "output_type": "stream",
     "text": [
      "AM: 94, PM : 196\n"
     ]
    }
   ],
   "source": [
    "am_count = 0\n",
    "pm_count = 0\n",
    "\n",
    "for trips in df['Start date']: \n",
    "    if trips.hour < 12: \n",
    "        am_count += 1\n",
    "    else:\n",
    "        pm_count += 1\n",
    "\n",
    "print(f'AM: {am_count}, PM : {pm_count}')"
   ]
  },
  {
   "cell_type": "code",
   "execution_count": 6,
   "id": "06a69c2e-bfd8-4996-b4e8-4458459688de",
   "metadata": {},
   "outputs": [
    {
     "name": "stdout",
     "output_type": "stream",
     "text": [
      "The peak hour for bike renting is 8:00, while the hiighest rental is 26\n"
     ]
    }
   ],
   "source": [
    "#finding the peak hour and number of rentals in that hour\n",
    "df['hour'] = df['Start date'].dt.hour\n",
    "\n",
    "peak_hour_count = df['hour'].value_counts().sort_index()\n",
    "peak_hour = peak_hour_count.idxmax()\n",
    "peak_count = peak_hour_count.max()\n",
    "\n",
    "print(f'The peak hour for bike renting is {peak_hour}:00, while the hiighest rental is {peak_count}')\n",
    "\n"
   ]
  },
  {
   "cell_type": "code",
   "execution_count": 13,
   "id": "16fbceaa-4902-4b84-9771-9593551eee4e",
   "metadata": {},
   "outputs": [
    {
     "name": "stdout",
     "output_type": "stream",
     "text": [
      "0   0 days 00:03:01\n",
      "1   0 days 02:07:02\n",
      "Name: Total duration, dtype: timedelta64[ns]\n"
     ]
    }
   ],
   "source": [
    "#calculating time elapsed between start and end date (pick up and drop off)\n",
    "df['Start date'] = pd.to_datetime(df['Start date'])\n",
    "df['End date'] = pd.to_datetime(df['End date'])\n",
    "\n",
    "total_duration = []\n",
    "\n",
    "for index, row in df.iterrows():\n",
    "    durations = row['End date'] - row['Start date']\n",
    "    total_duration.append(durations)\n",
    "\n",
    "df['Total duration'] = total_duration\n",
    "print(df['Total duration'].head(2))"
   ]
  },
  {
   "cell_type": "code",
   "execution_count": 29,
   "id": "7d6c1b38-9825-4252-8b7f-30ed6bb9eda5",
   "metadata": {},
   "outputs": [
    {
     "name": "stdout",
     "output_type": "stream",
     "text": [
      "5 days, 0:00:00\n",
      "2025-04-12 11:42:13.815471\n",
      "2025-04-17 11:42:13.815471\n",
      "2025-04-07 11:42:13.815471\n"
     ]
    }
   ],
   "source": [
    "#understanding timedelta\n",
    "\n",
    "delta = timedelta(days = 5)\n",
    "now = datetime.now()\n",
    "future = now + delta\n",
    "past = now - delta\n",
    "print(delta)\n",
    "print(now)\n",
    "print(future)\n",
    "print(past)"
   ]
  },
  {
   "cell_type": "code",
   "execution_count": 35,
   "id": "4736d489-a2ce-4ade-9357-5f305dbc4fcc",
   "metadata": {},
   "outputs": [
    {
     "name": "stdout",
     "output_type": "stream",
     "text": [
      "Member type\n",
      "Member    236\n",
      "Casual     54\n",
      "Name: count, dtype: int64\n"
     ]
    }
   ],
   "source": [
    "#number of rides by member type\n",
    "\n",
    "No_of_rides = df['Member type'].value_counts()\n",
    "print(No_of_rides)"
   ]
  },
  {
   "cell_type": "code",
   "execution_count": 81,
   "id": "aef7e096-38a0-47dd-8986-635c8e2faaf1",
   "metadata": {},
   "outputs": [
    {
     "name": "stdout",
     "output_type": "stream",
     "text": [
      "Start date  Member type\n",
      "2017-10-31  Member         0.768519\n",
      "            Casual         0.231481\n",
      "2017-11-30  Member         0.825243\n",
      "            Casual         0.174757\n",
      "2017-12-31  Member         0.860759\n",
      "            Casual         0.139241\n",
      "dtype: float64\n"
     ]
    },
    {
     "data": {
      "text/plain": [
       "<function matplotlib.pyplot.show(close=None, block=None)>"
      ]
     },
     "execution_count": 81,
     "metadata": {},
     "output_type": "execute_result"
    },
    {
     "data": {
      "image/png": "[encoded data removed]",
      "text/plain": [
       "<Figure size 640x480 with 1 Axes>"
      ]
     },
     "metadata": {},
     "output_type": "display_data"
    }
   ],
   "source": [
    "#rides by months\n",
    "import matplotlib.pyplot as plt\n",
    "monthly_rides = df.resample('ME', on = 'Start date')['Member type']\n",
    "print(monthly_rides.value_counts() / monthly_rides.size())\n",
    "\n",
    "plot = df.resample('ME', on = 'Start date').size().plot(ylim=[0, 150])\n",
    "plt.show\n"
   ]
  },
  {
   "cell_type": "code",
   "execution_count": 97,
   "id": "cbc943a4-533c-46a1-a3fa-966a65f8c72f",
   "metadata": {},
   "outputs": [
    {
     "name": "stdout",
     "output_type": "stream",
     "text": [
      "2017-10-01 15:26:26+01:00\n",
      "2017-10-01 14:26:26+00:00\n"
     ]
    }
   ],
   "source": [
    "#transforming naive datetime to aware datetime\n",
    "df['End date'] = df['End date'].dt.tz_localize('Europe/London')\n",
    "print(df['End date'].iloc[0])\n",
    "\n",
    "\n",
    "#converting datetime timezone\n",
    "df['End date'] = df['End date'].dt.tz_convert('Africa/Accra')\n",
    "print(df['End date'].iloc[0])\n"
   ]
  },
  {
   "cell_type": "code",
   "execution_count": 111,
   "id": "01edf305-7148-41b2-af71-ed433d5be16e",
   "metadata": {},
   "outputs": [
    {
     "name": "stdout",
     "output_type": "stream",
     "text": [
      "rpd\n",
      "Friday       724.5\n",
      "Monday       810.5\n",
      "Saturday     462.0\n",
      "Sunday       902.5\n",
      "Thursday     652.0\n",
      "Tuesday      641.5\n",
      "Wednesday    585.0\n",
      "Name: Duration seconds, dtype: float64\n"
     ]
    },
    {
     "data": {
      "image/png": "[encoded data removed]",
      "text/plain": [
       "<Figure size 640x480 with 1 Axes>"
      ]
     },
     "metadata": {},
     "output_type": "display_data"
    }
   ],
   "source": [
    "#finding the highest duration(sec) median rides per day\n",
    "\n",
    "df['Duration seconds'] = df['Total duration'].dt.total_seconds() #convert tiime to seconds\n",
    "\n",
    "df['rpd'] = df['Start date'].dt.day_name()\n",
    "print(df.groupby('rpd')['Duration seconds'].median())\n",
    "\n",
    "df.groupby('rpd')['Duration seconds'].median().plot(ylim = [0,1000])\n",
    "plt.show()"
   ]
  },
  {
   "cell_type": "code",
   "execution_count": 137,
   "id": "ac160c33-c994-4162-b47e-967b9d77e9af",
   "metadata": {},
   "outputs": [
    {
     "name": "stdout",
     "output_type": "stream",
     "text": [
      "Start date\n",
      "2017-10-31 00:00:00+00:00    6.519242\n",
      "2017-11-30 00:00:00+00:00    7.266152\n",
      "2017-12-31 00:00:00+00:00    9.202380\n",
      "Freq: ME, Name: time_elapsed, dtype: float64\n"
     ]
    }
   ],
   "source": [
    "#average time (hrs) bike spent on dock begtween rides\n",
    "\n",
    "df['time_elapsed'] = df['Start date'] - df['End date'].shift(1)\n",
    "df['time_elapsed'] = df['time_elapsed'].dt.total_seconds()\n",
    "mr = df.resample('ME', on = 'Start date')\n",
    "print(mr['time_elapsed'].mean() / (60*60))"
   ]
  },
  {
   "cell_type": "markdown",
   "id": "9f8d1c2a-c52b-46fe-b48d-132336e5f503",
   "metadata": {},
   "source": [
    "Contact me: deborahokorohdavid@gmail.com"
   ]
  }
 ],
 "metadata": {
  "kernelspec": {
   "display_name": "Python 3 (ipykernel)",
   "language": "python",
   "name": "python3"
  },
  "language_info": {
   "codemirror_mode": {
    "name": "ipython",
    "version": 3
   },
   "file_extension": ".py",
   "mimetype": "text/x-python",
   "name": "python",
   "nbconvert_exporter": "python",
   "pygments_lexer": "ipython3",
   "version": "3.12.4"
  }
 },
 "nbformat": 4,
 "nbformat_minor": 5
}
