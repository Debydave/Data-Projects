{
 "cells": [
  {
   "cell_type": "markdown",
   "id": "ae5ed5f4-3bac-40fd-b47c-e4571d07576d",
   "metadata": {},
   "source": [
    "UNSTRUCTURED DATA ANALYSIS, CLEANING, AND WRANGLING BY DEBORAH OKOROH DAVID (DOD)"
   ]
  },
  {
   "cell_type": "markdown",
   "id": "b6bb0c01-5439-42e9-977c-0422beb3e957",
   "metadata": {},
   "source": [
    "IMPORT LIBRARIES"
   ]
  },
  {
   "cell_type": "code",
   "execution_count": 1,
   "id": "8c74d044-97b9-4129-862a-e3036b1ca54e",
   "metadata": {},
   "outputs": [],
   "source": [
    "import pandas as pd\n",
    "import numpy as np"
   ]
  },
  {
   "cell_type": "markdown",
   "id": "759f1f71-da83-4e80-ba02-0f03cf6b9249",
   "metadata": {},
   "source": [
    "IMPORT DATAFRAME"
   ]
  },
  {
   "cell_type": "code",
   "execution_count": 7,
   "id": "1837030e-7180-4954-b413-d97620c0c91d",
   "metadata": {},
   "outputs": [],
   "source": [
    "df = pd.read_csv('AI opinion.csv')"
   ]
  },
  {
   "cell_type": "markdown",
   "id": "bfba8fb3-d4c0-4378-b022-c04167588a27",
   "metadata": {},
   "source": [
    "SEE DATAFRAME STRUCTURE"
   ]
  },
  {
   "cell_type": "code",
   "execution_count": 9,
   "id": "329707c9-2105-4b6b-a7c4-d450a8721683",
   "metadata": {},
   "outputs": [
    {
     "data": {
      "text/html": [
       "<div>\n",
       "<style scoped>\n",
       "    .dataframe tbody tr th:only-of-type {\n",
       "        vertical-align: middle;\n",
       "    }\n",
       "\n",
       "    .dataframe tbody tr th {\n",
       "        vertical-align: top;\n",
       "    }\n",
       "\n",
       "    .dataframe thead th {\n",
       "        text-align: right;\n",
       "    }\n",
       "</style>\n",
       "<table border=\"1\" class=\"dataframe\">\n",
       "  <thead>\n",
       "    <tr style=\"text-align: right;\">\n",
       "      <th></th>\n",
       "      <th>text-neutral-content-weak</th>\n",
       "      <th>py-0</th>\n",
       "      <th>py-0 3</th>\n",
       "      <th>py-0 4</th>\n",
       "      <th>py-0 8</th>\n",
       "    </tr>\n",
       "  </thead>\n",
       "  <tbody>\n",
       "    <tr>\n",
       "      <th>0</th>\n",
       "      <td>6mo ago</td>\n",
       "      <td>If you're sick of hearing buzzwords, compsci m...</td>\n",
       "      <td>What were some of the past hype cycles and buz...</td>\n",
       "      <td>Artificial Intelligence (AI)</td>\n",
       "      <td>Graphical User Interface (GUI)</td>\n",
       "    </tr>\n",
       "    <tr>\n",
       "      <th>1</th>\n",
       "      <td>6mo ago</td>\n",
       "      <td>different from crypto/NFTs, AI is easily integ...</td>\n",
       "      <td>It's the usual capitalist buzzword cycle - any...</td>\n",
       "      <td>Today? No.</td>\n",
       "      <td>Can AI improve either of those objectives? Oft...</td>\n",
       "    </tr>\n",
       "    <tr>\n",
       "      <th>2</th>\n",
       "      <td>6mo ago</td>\n",
       "      <td>, where vendors will slap an 'AI' sticker to a...</td>\n",
       "      <td>We're currently at peak hype/ridicule</td>\n",
       "      <td>However, even if we'll see less of the 'AI' bu...</td>\n",
       "      <td>From now on, it should cap for a little while ...</td>\n",
       "    </tr>\n",
       "    <tr>\n",
       "      <th>3</th>\n",
       "      <td>6mo ago</td>\n",
       "      <td>It won't. AI is in it's infancy. While most co...</td>\n",
       "      <td>Bingo.  I've been though enough tech hypes to ...</td>\n",
       "      <td>AI is hyped.  Period.</td>\n",
       "      <td>Hype is natural and healthy. What came out of ...</td>\n",
       "    </tr>\n",
       "    <tr>\n",
       "      <th>4</th>\n",
       "      <td>6mo ago</td>\n",
       "      <td>Probably around the same time this \"internet\" ...</td>\n",
       "      <td>NaN</td>\n",
       "      <td>NaN</td>\n",
       "      <td>NaN</td>\n",
       "    </tr>\n",
       "  </tbody>\n",
       "</table>\n",
       "</div>"
      ],
      "text/plain": [
       "  text-neutral-content-weak  \\\n",
       "0                   6mo ago   \n",
       "1                   6mo ago   \n",
       "2                   6mo ago   \n",
       "3                   6mo ago   \n",
       "4                   6mo ago   \n",
       "\n",
       "                                                py-0  \\\n",
       "0  If you're sick of hearing buzzwords, compsci m...   \n",
       "1  different from crypto/NFTs, AI is easily integ...   \n",
       "2  , where vendors will slap an 'AI' sticker to a...   \n",
       "3  It won't. AI is in it's infancy. While most co...   \n",
       "4  Probably around the same time this \"internet\" ...   \n",
       "\n",
       "                                              py-0 3  \\\n",
       "0  What were some of the past hype cycles and buz...   \n",
       "1  It's the usual capitalist buzzword cycle - any...   \n",
       "2              We're currently at peak hype/ridicule   \n",
       "3  Bingo.  I've been though enough tech hypes to ...   \n",
       "4                                                NaN   \n",
       "\n",
       "                                              py-0 4  \\\n",
       "0                       Artificial Intelligence (AI)   \n",
       "1                                         Today? No.   \n",
       "2  However, even if we'll see less of the 'AI' bu...   \n",
       "3                              AI is hyped.  Period.   \n",
       "4                                                NaN   \n",
       "\n",
       "                                              py-0 8  \n",
       "0                     Graphical User Interface (GUI)  \n",
       "1  Can AI improve either of those objectives? Oft...  \n",
       "2  From now on, it should cap for a little while ...  \n",
       "3  Hype is natural and healthy. What came out of ...  \n",
       "4                                                NaN  "
      ]
     },
     "execution_count": 9,
     "metadata": {},
     "output_type": "execute_result"
    }
   ],
   "source": [
    "df.head(5)"
   ]
  },
  {
   "cell_type": "code",
   "execution_count": 11,
   "id": "eda04c33-d8f0-4e77-9003-f624239d05fb",
   "metadata": {},
   "outputs": [
    {
     "name": "stdout",
     "output_type": "stream",
     "text": [
      "<class 'pandas.core.frame.DataFrame'>\n",
      "RangeIndex: 265 entries, 0 to 264\n",
      "Data columns (total 5 columns):\n",
      " #   Column                     Non-Null Count  Dtype \n",
      "---  ------                     --------------  ----- \n",
      " 0   text-neutral-content-weak  265 non-null    object\n",
      " 1   py-0                       260 non-null    object\n",
      " 2   py-0 3                     37 non-null     object\n",
      " 3   py-0 4                     50 non-null     object\n",
      " 4   py-0 8                     82 non-null     object\n",
      "dtypes: object(5)\n",
      "memory usage: 10.5+ KB\n"
     ]
    }
   ],
   "source": [
    "df.info()"
   ]
  },
  {
   "cell_type": "markdown",
   "id": "41a098cf-db87-478f-974b-8fcd61b5b8e0",
   "metadata": {},
   "source": [
    "I MERGED ALL OPINION COLUMNS TOGETHER BY STACKING THEM ON EACH OTHER TO FORM 1 COLUMN"
   ]
  },
  {
   "cell_type": "code",
   "execution_count": 13,
   "id": "544b2bcc-78aa-4d6e-88c9-b6b0a72cce42",
   "metadata": {},
   "outputs": [
    {
     "name": "stdout",
     "output_type": "stream",
     "text": [
      "     text-neutral-content-weak source_coln  \\\n",
      "0                      6mo ago        py-0   \n",
      "1                      6mo ago        py-0   \n",
      "2                      6mo ago        py-0   \n",
      "3                      6mo ago        py-0   \n",
      "4                      6mo ago        py-0   \n",
      "...                        ...         ...   \n",
      "1055                   6mo ago      py-0 8   \n",
      "1056                   6mo ago      py-0 8   \n",
      "1057                   6mo ago      py-0 8   \n",
      "1058                   6mo ago      py-0 8   \n",
      "1059                   6mo ago      py-0 8   \n",
      "\n",
      "                                         stacked_values  \n",
      "0     If you're sick of hearing buzzwords, compsci m...  \n",
      "1     different from crypto/NFTs, AI is easily integ...  \n",
      "2     , where vendors will slap an 'AI' sticker to a...  \n",
      "3     It won't. AI is in it's infancy. While most co...  \n",
      "4     Probably around the same time this \"internet\" ...  \n",
      "...                                                 ...  \n",
      "1055  Can't you find a different sub to post this in...  \n",
      "1056                                                NaN  \n",
      "1057  If you don't 'get' AI then your simply dumb or...  \n",
      "1058                                                NaN  \n",
      "1059                                                NaN  \n",
      "\n",
      "[1060 rows x 3 columns]\n"
     ]
    }
   ],
   "source": [
    "df = df.melt(id_vars = 'text-neutral-content-weak', value_vars= ['py-0', 'py-0 3', 'py-0 4', 'py-0 8'], var_name= 'source_coln', value_name= 'stacked_values')\n",
    "print(df)"
   ]
  },
  {
   "cell_type": "code",
   "execution_count": null,
   "id": "847276ec-92fe-4edb-8d42-0592fa0c76be",
   "metadata": {},
   "outputs": [],
   "source": [
    "SEE DATA TYPES FOR EACH COLUMN"
   ]
  },
  {
   "cell_type": "code",
   "execution_count": 15,
   "id": "3378c7bb-a482-433d-ac7b-96f7083d8abc",
   "metadata": {},
   "outputs": [
    {
     "data": {
      "text/plain": [
       "text-neutral-content-weak    object\n",
       "source_coln                  object\n",
       "stacked_values               object\n",
       "dtype: object"
      ]
     },
     "execution_count": 15,
     "metadata": {},
     "output_type": "execute_result"
    }
   ],
   "source": [
    "df.dtypes"
   ]
  },
  {
   "cell_type": "markdown",
   "id": "8c1fec46-81da-4e62-8c90-13a902419ed0",
   "metadata": {},
   "source": [
    "DELETE UNWANTED COLUMN FROM DATA FRAME"
   ]
  },
  {
   "cell_type": "code",
   "execution_count": 17,
   "id": "04e29156-c186-44af-aa46-9c87a19f8767",
   "metadata": {},
   "outputs": [],
   "source": [
    "del df['source_coln']"
   ]
  },
  {
   "cell_type": "markdown",
   "id": "ef2e5df5-227e-4906-b00f-b102a0df9c84",
   "metadata": {},
   "source": [
    "RENAME COLUMN FOR BETTER UNDERSTANDING OF DATAFRAME "
   ]
  },
  {
   "cell_type": "code",
   "execution_count": 19,
   "id": "3754cecc-caa0-4b86-a419-9b01947ef87f",
   "metadata": {},
   "outputs": [
    {
     "name": "stdout",
     "output_type": "stream",
     "text": [
      "         date                                            opinion\n",
      "0     6mo ago  If you're sick of hearing buzzwords, compsci m...\n",
      "1     6mo ago  different from crypto/NFTs, AI is easily integ...\n",
      "2     6mo ago  , where vendors will slap an 'AI' sticker to a...\n",
      "3     6mo ago  It won't. AI is in it's infancy. While most co...\n",
      "4     6mo ago  Probably around the same time this \"internet\" ...\n",
      "...       ...                                                ...\n",
      "1055  6mo ago  Can't you find a different sub to post this in...\n",
      "1056  6mo ago                                                NaN\n",
      "1057  6mo ago  If you don't 'get' AI then your simply dumb or...\n",
      "1058  6mo ago                                                NaN\n",
      "1059  6mo ago                                                NaN\n",
      "\n",
      "[1060 rows x 2 columns]\n"
     ]
    }
   ],
   "source": [
    "df = df.rename(columns= {'text-neutral-content-weak': 'date', 'stacked_values': 'opinion'})\n",
    "print(df)"
   ]
  },
  {
   "cell_type": "markdown",
   "id": "69cae81b-f3ff-499b-bdf1-5e877a69d955",
   "metadata": {},
   "source": [
    "SEE NULL VALUES IN EACH COLUMNS"
   ]
  },
  {
   "cell_type": "code",
   "execution_count": 21,
   "id": "c6d0f48b-e4fd-40fa-acf3-c411fa10b4fb",
   "metadata": {},
   "outputs": [
    {
     "data": {
      "text/plain": [
       "date         0\n",
       "opinion    631\n",
       "dtype: int64"
      ]
     },
     "execution_count": 21,
     "metadata": {},
     "output_type": "execute_result"
    }
   ],
   "source": [
    "df.isnull().sum()"
   ]
  },
  {
   "cell_type": "markdown",
   "id": "2344e4a5-df4b-48f9-ae9c-48d27fce9f1a",
   "metadata": {},
   "source": [
    "DROP NULL VALUES"
   ]
  },
  {
   "cell_type": "code",
   "execution_count": 23,
   "id": "3e065b9b-5c2f-406c-8a15-14cbd473f8df",
   "metadata": {},
   "outputs": [
    {
     "name": "stdout",
     "output_type": "stream",
     "text": [
      "         date                                            opinion\n",
      "0     6mo ago  If you're sick of hearing buzzwords, compsci m...\n",
      "1     6mo ago  different from crypto/NFTs, AI is easily integ...\n",
      "2     6mo ago  , where vendors will slap an 'AI' sticker to a...\n",
      "3     6mo ago  It won't. AI is in it's infancy. While most co...\n",
      "4     6mo ago  Probably around the same time this \"internet\" ...\n",
      "...       ...                                                ...\n",
      "1047  6mo ago  As some says, ai should be doing our chores so...\n",
      "1048  6mo ago  Unlike other trends AI is here to stay and it'...\n",
      "1051  6mo ago  Bro you might not be for the science and techn...\n",
      "1055  6mo ago  Can't you find a different sub to post this in...\n",
      "1057  6mo ago  If you don't 'get' AI then your simply dumb or...\n",
      "\n",
      "[429 rows x 2 columns]\n"
     ]
    }
   ],
   "source": [
    "df = df.dropna(subset= ['opinion'])\n",
    "print(df)"
   ]
  },
  {
   "cell_type": "markdown",
   "id": "71749fb8-c2f7-4e46-a952-78f2c49b07a2",
   "metadata": {},
   "source": [
    "I STANDARDIZED THE DATE COLUMN TO DATETIME FORMAT"
   ]
  },
  {
   "cell_type": "code",
   "execution_count": 29,
   "id": "d9e9df3f-ffbf-4638-a40b-46cb27210c59",
   "metadata": {},
   "outputs": [
    {
     "name": "stdout",
     "output_type": "stream",
     "text": [
      "         date                                            opinion  \\\n",
      "0     6mo ago  If you're sick of hearing buzzwords, compsci m...   \n",
      "1     6mo ago  different from crypto/NFTs, AI is easily integ...   \n",
      "2     6mo ago  , where vendors will slap an 'AI' sticker to a...   \n",
      "3     6mo ago  It won't. AI is in it's infancy. While most co...   \n",
      "4     6mo ago  Probably around the same time this \"internet\" ...   \n",
      "...       ...                                                ...   \n",
      "1047  6mo ago  As some says, ai should be doing our chores so...   \n",
      "1048  6mo ago  Unlike other trends AI is here to stay and it'...   \n",
      "1051  6mo ago  Bro you might not be for the science and techn...   \n",
      "1055  6mo ago  Can't you find a different sub to post this in...   \n",
      "1057  6mo ago  If you don't 'get' AI then your simply dumb or...   \n",
      "\n",
      "                  ConvertedDate  \n",
      "0    2024-07-04 16:29:19.930841  \n",
      "1    2024-07-04 16:29:19.930841  \n",
      "2    2024-07-04 16:29:19.930841  \n",
      "3    2024-07-04 16:29:19.930841  \n",
      "4    2024-07-04 16:29:19.930841  \n",
      "...                         ...  \n",
      "1047 2024-07-04 16:29:19.932832  \n",
      "1048 2024-07-04 16:29:19.932832  \n",
      "1051 2024-07-04 16:29:19.932832  \n",
      "1055 2024-07-04 16:29:19.932832  \n",
      "1057 2024-07-04 16:29:19.932832  \n",
      "\n",
      "[429 rows x 3 columns]\n"
     ]
    }
   ],
   "source": [
    "from datetime import datetime, timedelta\n",
    "import re\n",
    "\n",
    "def convert_to_date(time_str):\n",
    "    \n",
    "    now = datetime.now()\n",
    "    \n",
    "    # Regular expression to extract the number and unit\n",
    "    match = re.match(r\"(\\d+)([a-z]+)\", time_str)\n",
    "    if match:\n",
    "        value, unit = int(match.group(1)), match.group(2)\n",
    "        if unit == 'mo':  # Months\n",
    "            return now - timedelta(days=value * 30)  # Total days in a month as 30 days\n",
    "        elif unit == 'd':  # Days\n",
    "            return now - timedelta(days=value)\n",
    "        elif unit == 'y':  # Years\n",
    "            return now - timedelta(days=value * 365)  # Total days in a year as 365 days\n",
    "        elif unit == 'w':  # Weeks\n",
    "            return now - timedelta(weeks=value)\n",
    "    return None  # Return None if format is not recognized\n",
    "\n",
    "# Apply the conversion function\n",
    "df['ConvertedDate'] = df['date'].apply(convert_to_date)\n",
    "\n",
    "print(df)"
   ]
  },
  {
   "cell_type": "markdown",
   "id": "bb226dfd-7bfe-4a9b-ba42-514f0fac7e03",
   "metadata": {},
   "source": [
    "I CREATED A FUNCTION TO LABEL EACH OPINION "
   ]
  },
  {
   "cell_type": "code",
   "execution_count": 37,
   "id": "db6866da-3abc-4438-b5a2-29c7c879ad1e",
   "metadata": {},
   "outputs": [
    {
     "name": "stdout",
     "output_type": "stream",
     "text": [
      "         date                                            opinion  \\\n",
      "0     6mo ago  If you're sick of hearing buzzwords, compsci m...   \n",
      "1     6mo ago  different from crypto/NFTs, AI is easily integ...   \n",
      "2     6mo ago  , where vendors will slap an 'AI' sticker to a...   \n",
      "3     6mo ago  It won't. AI is in it's infancy. While most co...   \n",
      "4     6mo ago  Probably around the same time this \"internet\" ...   \n",
      "...       ...                                                ...   \n",
      "1047  6mo ago  As some says, ai should be doing our chores so...   \n",
      "1048  6mo ago  Unlike other trends AI is here to stay and it'...   \n",
      "1051  6mo ago  Bro you might not be for the science and techn...   \n",
      "1055  6mo ago  Can't you find a different sub to post this in...   \n",
      "1057  6mo ago  If you don't 'get' AI then your simply dumb or...   \n",
      "\n",
      "                  ConvertedDate          Label  \n",
      "0    2024-07-04 16:29:19.930841  Uncategorized  \n",
      "1    2024-07-04 16:29:19.930841  Uncategorized  \n",
      "2    2024-07-04 16:29:19.930841  Uncategorized  \n",
      "3    2024-07-04 16:29:19.930841      Overhyped  \n",
      "4    2024-07-04 16:29:19.930841  Uncategorized  \n",
      "...                         ...            ...  \n",
      "1047 2024-07-04 16:29:19.932832  Uncategorized  \n",
      "1048 2024-07-04 16:29:19.932832   Here to stay  \n",
      "1051 2024-07-04 16:29:19.932832  Uncategorized  \n",
      "1055 2024-07-04 16:29:19.932832        Hate it  \n",
      "1057 2024-07-04 16:29:19.932832  Uncategorized  \n",
      "\n",
      "[429 rows x 4 columns]\n"
     ]
    }
   ],
   "source": [
    "def label_opinion(opinion):\n",
    "    if 'love' in opinion.lower():\n",
    "        return 'Love it'\n",
    "    elif 'stay' in opinion.lower():\n",
    "        return 'Here to stay'\n",
    "    elif 'neutral' in opinion.lower():\n",
    "        return 'Neutral'\n",
    "    elif 'dangerous' in opinion.lower():\n",
    "        return 'Dangerous'\n",
    "    elif 'useful' in opinion.lower():\n",
    "        return 'Useful'\n",
    "    elif 'incompetent' in opinion.lower():\n",
    "        return 'Incompetent'\n",
    "    elif 'die out' in opinion.lower():\n",
    "        return 'Eventually fade out'\n",
    "    elif 'replace' in opinion.lower():\n",
    "        return 'Replaces our jobs'\n",
    "    elif 'hate' in opinion.lower():\n",
    "        return 'Hate it'\n",
    "    elif 'overhyped' in opinion.lower():\n",
    "        return 'Overhyped'\n",
    "    elif 'expensive' in opinion.lower():\n",
    "        return 'Too expensive to run'\n",
    "    elif 'regulation' in opinion.lower():\n",
    "        return 'Needs regulation'\n",
    "    else:\n",
    "        return 'Uncategorized'\n",
    "\n",
    "df['Label'] = df['opinion'].apply(label_opinion)\n",
    "\n",
    "print(df)"
   ]
  },
  {
   "cell_type": "markdown",
   "id": "20139292-ec7b-47b0-b7d1-6224135d3f12",
   "metadata": {},
   "source": [
    "STRUCTURE OF WRANGLED DATA"
   ]
  },
  {
   "cell_type": "code",
   "execution_count": 39,
   "id": "62a64d1c-83f4-48fc-b2cf-0da39ab85827",
   "metadata": {},
   "outputs": [
    {
     "data": {
      "text/html": [
       "<div>\n",
       "<style scoped>\n",
       "    .dataframe tbody tr th:only-of-type {\n",
       "        vertical-align: middle;\n",
       "    }\n",
       "\n",
       "    .dataframe tbody tr th {\n",
       "        vertical-align: top;\n",
       "    }\n",
       "\n",
       "    .dataframe thead th {\n",
       "        text-align: right;\n",
       "    }\n",
       "</style>\n",
       "<table border=\"1\" class=\"dataframe\">\n",
       "  <thead>\n",
       "    <tr style=\"text-align: right;\">\n",
       "      <th></th>\n",
       "      <th>date</th>\n",
       "      <th>opinion</th>\n",
       "      <th>ConvertedDate</th>\n",
       "      <th>Label</th>\n",
       "    </tr>\n",
       "  </thead>\n",
       "  <tbody>\n",
       "    <tr>\n",
       "      <th>0</th>\n",
       "      <td>6mo ago</td>\n",
       "      <td>If you're sick of hearing buzzwords, compsci m...</td>\n",
       "      <td>2024-07-04 16:29:19.930841</td>\n",
       "      <td>Uncategorized</td>\n",
       "    </tr>\n",
       "    <tr>\n",
       "      <th>1</th>\n",
       "      <td>6mo ago</td>\n",
       "      <td>different from crypto/NFTs, AI is easily integ...</td>\n",
       "      <td>2024-07-04 16:29:19.930841</td>\n",
       "      <td>Uncategorized</td>\n",
       "    </tr>\n",
       "    <tr>\n",
       "      <th>2</th>\n",
       "      <td>6mo ago</td>\n",
       "      <td>, where vendors will slap an 'AI' sticker to a...</td>\n",
       "      <td>2024-07-04 16:29:19.930841</td>\n",
       "      <td>Uncategorized</td>\n",
       "    </tr>\n",
       "    <tr>\n",
       "      <th>3</th>\n",
       "      <td>6mo ago</td>\n",
       "      <td>It won't. AI is in it's infancy. While most co...</td>\n",
       "      <td>2024-07-04 16:29:19.930841</td>\n",
       "      <td>Overhyped</td>\n",
       "    </tr>\n",
       "    <tr>\n",
       "      <th>4</th>\n",
       "      <td>6mo ago</td>\n",
       "      <td>Probably around the same time this \"internet\" ...</td>\n",
       "      <td>2024-07-04 16:29:19.930841</td>\n",
       "      <td>Uncategorized</td>\n",
       "    </tr>\n",
       "    <tr>\n",
       "      <th>5</th>\n",
       "      <td>6mo ago</td>\n",
       "      <td>I remember reading a decade ago about Google u...</td>\n",
       "      <td>2024-07-04 16:29:19.930841</td>\n",
       "      <td>Uncategorized</td>\n",
       "    </tr>\n",
       "    <tr>\n",
       "      <th>6</th>\n",
       "      <td>6mo ago</td>\n",
       "      <td>It'll die out when investors get tired of losi...</td>\n",
       "      <td>2024-07-04 16:29:19.930841</td>\n",
       "      <td>Eventually fade out</td>\n",
       "    </tr>\n",
       "    <tr>\n",
       "      <th>7</th>\n",
       "      <td>6mo ago</td>\n",
       "      <td>Uh... It  AI.</td>\n",
       "      <td>2024-07-04 16:29:19.930841</td>\n",
       "      <td>Uncategorized</td>\n",
       "    </tr>\n",
       "    <tr>\n",
       "      <th>8</th>\n",
       "      <td>6mo ago</td>\n",
       "      <td>Did the electricity fad die out? What about fl...</td>\n",
       "      <td>2024-07-04 16:29:19.930841</td>\n",
       "      <td>Eventually fade out</td>\n",
       "    </tr>\n",
       "    <tr>\n",
       "      <th>9</th>\n",
       "      <td>6mo ago</td>\n",
       "      <td>People are dumb and require visual stimuli. LL...</td>\n",
       "      <td>2024-07-04 16:29:19.930841</td>\n",
       "      <td>Uncategorized</td>\n",
       "    </tr>\n",
       "    <tr>\n",
       "      <th>10</th>\n",
       "      <td>6mo ago</td>\n",
       "      <td>This is not even the first time AI has been in...</td>\n",
       "      <td>2024-07-04 16:29:19.930841</td>\n",
       "      <td>Uncategorized</td>\n",
       "    </tr>\n",
       "    <tr>\n",
       "      <th>11</th>\n",
       "      <td>6mo ago</td>\n",
       "      <td>LLMs and AI are not a \"fad\". They are revoluti...</td>\n",
       "      <td>2024-07-04 16:29:19.930841</td>\n",
       "      <td>Eventually fade out</td>\n",
       "    </tr>\n",
       "    <tr>\n",
       "      <th>12</th>\n",
       "      <td>6mo ago</td>\n",
       "      <td>OP, I think this thread now has a life of its ...</td>\n",
       "      <td>2024-07-04 16:29:19.930841</td>\n",
       "      <td>Uncategorized</td>\n",
       "    </tr>\n",
       "    <tr>\n",
       "      <th>13</th>\n",
       "      <td>6mo ago</td>\n",
       "      <td>Many people here are comparing AI to the Inter...</td>\n",
       "      <td>2024-07-04 16:29:19.930841</td>\n",
       "      <td>Uncategorized</td>\n",
       "    </tr>\n",
       "    <tr>\n",
       "      <th>14</th>\n",
       "      <td>6mo ago</td>\n",
       "      <td>It died when OpenAI kicked out mathematicians ...</td>\n",
       "      <td>2024-07-04 16:29:19.930841</td>\n",
       "      <td>Uncategorized</td>\n",
       "    </tr>\n",
       "    <tr>\n",
       "      <th>15</th>\n",
       "      <td>6mo ago</td>\n",
       "      <td>The same as when the internet or smartphone fa...</td>\n",
       "      <td>2024-07-04 16:29:19.930841</td>\n",
       "      <td>Uncategorized</td>\n",
       "    </tr>\n",
       "    <tr>\n",
       "      <th>16</th>\n",
       "      <td>6mo ago</td>\n",
       "      <td>Careful. Sears thought online shopping was a f...</td>\n",
       "      <td>2024-07-04 16:29:19.930841</td>\n",
       "      <td>Uncategorized</td>\n",
       "    </tr>\n",
       "    <tr>\n",
       "      <th>17</th>\n",
       "      <td>6mo ago</td>\n",
       "      <td>look up Gartner hype cycle.  then you will hav...</td>\n",
       "      <td>2024-07-04 16:29:19.930841</td>\n",
       "      <td>Uncategorized</td>\n",
       "    </tr>\n",
       "    <tr>\n",
       "      <th>18</th>\n",
       "      <td>6mo ago</td>\n",
       "      <td>\" New coke flavor? Claims to be AI generated. \"</td>\n",
       "      <td>2024-07-04 16:29:19.930841</td>\n",
       "      <td>Uncategorized</td>\n",
       "    </tr>\n",
       "    <tr>\n",
       "      <th>19</th>\n",
       "      <td>6mo ago</td>\n",
       "      <td>If you consider the 'AI hype' to be distinctly...</td>\n",
       "      <td>2024-07-04 16:29:19.930841</td>\n",
       "      <td>Eventually fade out</td>\n",
       "    </tr>\n",
       "  </tbody>\n",
       "</table>\n",
       "</div>"
      ],
      "text/plain": [
       "       date                                            opinion  \\\n",
       "0   6mo ago  If you're sick of hearing buzzwords, compsci m...   \n",
       "1   6mo ago  different from crypto/NFTs, AI is easily integ...   \n",
       "2   6mo ago  , where vendors will slap an 'AI' sticker to a...   \n",
       "3   6mo ago  It won't. AI is in it's infancy. While most co...   \n",
       "4   6mo ago  Probably around the same time this \"internet\" ...   \n",
       "5   6mo ago  I remember reading a decade ago about Google u...   \n",
       "6   6mo ago  It'll die out when investors get tired of losi...   \n",
       "7   6mo ago                                      Uh... It  AI.   \n",
       "8   6mo ago  Did the electricity fad die out? What about fl...   \n",
       "9   6mo ago  People are dumb and require visual stimuli. LL...   \n",
       "10  6mo ago  This is not even the first time AI has been in...   \n",
       "11  6mo ago  LLMs and AI are not a \"fad\". They are revoluti...   \n",
       "12  6mo ago  OP, I think this thread now has a life of its ...   \n",
       "13  6mo ago  Many people here are comparing AI to the Inter...   \n",
       "14  6mo ago  It died when OpenAI kicked out mathematicians ...   \n",
       "15  6mo ago  The same as when the internet or smartphone fa...   \n",
       "16  6mo ago  Careful. Sears thought online shopping was a f...   \n",
       "17  6mo ago  look up Gartner hype cycle.  then you will hav...   \n",
       "18  6mo ago    \" New coke flavor? Claims to be AI generated. \"   \n",
       "19  6mo ago  If you consider the 'AI hype' to be distinctly...   \n",
       "\n",
       "                ConvertedDate                Label  \n",
       "0  2024-07-04 16:29:19.930841        Uncategorized  \n",
       "1  2024-07-04 16:29:19.930841        Uncategorized  \n",
       "2  2024-07-04 16:29:19.930841        Uncategorized  \n",
       "3  2024-07-04 16:29:19.930841            Overhyped  \n",
       "4  2024-07-04 16:29:19.930841        Uncategorized  \n",
       "5  2024-07-04 16:29:19.930841        Uncategorized  \n",
       "6  2024-07-04 16:29:19.930841  Eventually fade out  \n",
       "7  2024-07-04 16:29:19.930841        Uncategorized  \n",
       "8  2024-07-04 16:29:19.930841  Eventually fade out  \n",
       "9  2024-07-04 16:29:19.930841        Uncategorized  \n",
       "10 2024-07-04 16:29:19.930841        Uncategorized  \n",
       "11 2024-07-04 16:29:19.930841  Eventually fade out  \n",
       "12 2024-07-04 16:29:19.930841        Uncategorized  \n",
       "13 2024-07-04 16:29:19.930841        Uncategorized  \n",
       "14 2024-07-04 16:29:19.930841        Uncategorized  \n",
       "15 2024-07-04 16:29:19.930841        Uncategorized  \n",
       "16 2024-07-04 16:29:19.930841        Uncategorized  \n",
       "17 2024-07-04 16:29:19.930841        Uncategorized  \n",
       "18 2024-07-04 16:29:19.930841        Uncategorized  \n",
       "19 2024-07-04 16:29:19.930841  Eventually fade out  "
      ]
     },
     "execution_count": 39,
     "metadata": {},
     "output_type": "execute_result"
    }
   ],
   "source": [
    "df.head(20)"
   ]
  },
  {
   "cell_type": "markdown",
   "id": "943dc4b7-3985-43f4-a5b0-9a058cc0c586",
   "metadata": {},
   "source": [
    "EXPORT AS EXCEL FILE"
   ]
  },
  {
   "cell_type": "code",
   "execution_count": 41,
   "id": "9671d663-bba3-47dd-8cc7-3a39715b6a88",
   "metadata": {},
   "outputs": [],
   "source": [
    "df.to_excel('generative_ai.xlsx', index=False)"
   ]
  },
  {
   "cell_type": "markdown",
   "id": "ab98264f-2193-48c1-b5eb-28b4cab72797",
   "metadata": {},
   "source": [
    "THIS IS TO SEE HOW MUCH MANUAL LABELING IS LEFT TO DO. THANK YOU FOR VIEWING!"
   ]
  },
  {
   "cell_type": "code",
   "execution_count": 53,
   "id": "87bffde2-e7c2-4694-9c1c-a3c92519ae13",
   "metadata": {},
   "outputs": [
    {
     "name": "stdout",
     "output_type": "stream",
     "text": [
      "Label\n",
      "Uncategorized           346\n",
      "Eventually fade out      32\n",
      "Here to stay             18\n",
      "Useful                   12\n",
      "Hate it                   8\n",
      "Replaces our jobs         4\n",
      "Overhyped                 3\n",
      "Too expensive to run      3\n",
      "Love it                   2\n",
      "Dangerous                 1\n",
      "Name: count, dtype: int64\n"
     ]
    }
   ],
   "source": [
    "unique_label = df['Label'].value_counts()\n",
    "print(unique_label)"
   ]
  }
 ],
 "metadata": {
  "kernelspec": {
   "display_name": "Python 3 (ipykernel)",
   "language": "python",
   "name": "python3"
  },
  "language_info": {
   "codemirror_mode": {
    "name": "ipython",
    "version": 3
   },
   "file_extension": ".py",
   "mimetype": "text/x-python",
   "name": "python",
   "nbconvert_exporter": "python",
   "pygments_lexer": "ipython3",
   "version": "3.12.4"
  }
 },
 "nbformat": 4,
 "nbformat_minor": 5
}
