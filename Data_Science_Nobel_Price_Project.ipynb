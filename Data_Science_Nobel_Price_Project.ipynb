{
 "cells": [
  {
   "cell_type": "code",
   "execution_count": 4,
   "id": "20ba063a-b022-425e-b7d0-355c7e2934b1",
   "metadata": {},
   "outputs": [],
   "source": [
    "#import the needed python packages\n",
    "import pandas as pd\n",
    "import numpy as np\n",
    "import matplotlib.pyplot as plt\n",
    "import seaborn as sns"
   ]
  },
  {
   "cell_type": "code",
   "execution_count": 6,
   "id": "b52164a4-40d1-429e-82f3-4bb25c2d7be5",
   "metadata": {},
   "outputs": [
    {
     "data": {
      "text/html": [
       "<div>\n",
       "<style scoped>\n",
       "    .dataframe tbody tr th:only-of-type {\n",
       "        vertical-align: middle;\n",
       "    }\n",
       "\n",
       "    .dataframe tbody tr th {\n",
       "        vertical-align: top;\n",
       "    }\n",
       "\n",
       "    .dataframe thead th {\n",
       "        text-align: right;\n",
       "    }\n",
       "</style>\n",
       "<table border=\"1\" class=\"dataframe\">\n",
       "  <thead>\n",
       "    <tr style=\"text-align: right;\">\n",
       "      <th></th>\n",
       "      <th>year</th>\n",
       "      <th>category</th>\n",
       "      <th>prize</th>\n",
       "      <th>motivation</th>\n",
       "      <th>prize_share</th>\n",
       "      <th>laureate_id</th>\n",
       "      <th>laureate_type</th>\n",
       "      <th>full_name</th>\n",
       "      <th>birth_date</th>\n",
       "      <th>birth_city</th>\n",
       "      <th>birth_country</th>\n",
       "      <th>sex</th>\n",
       "      <th>organization_name</th>\n",
       "      <th>organization_city</th>\n",
       "      <th>organization_country</th>\n",
       "      <th>death_date</th>\n",
       "      <th>death_city</th>\n",
       "      <th>death_country</th>\n",
       "    </tr>\n",
       "  </thead>\n",
       "  <tbody>\n",
       "    <tr>\n",
       "      <th>0</th>\n",
       "      <td>1901</td>\n",
       "      <td>Chemistry</td>\n",
       "      <td>The Nobel Prize in Chemistry 1901</td>\n",
       "      <td>\"in recognition of the extraordinary services ...</td>\n",
       "      <td>1/1</td>\n",
       "      <td>160</td>\n",
       "      <td>Individual</td>\n",
       "      <td>Jacobus Henricus van 't Hoff</td>\n",
       "      <td>1852-08-30</td>\n",
       "      <td>Rotterdam</td>\n",
       "      <td>Netherlands</td>\n",
       "      <td>Male</td>\n",
       "      <td>Berlin University</td>\n",
       "      <td>Berlin</td>\n",
       "      <td>Germany</td>\n",
       "      <td>1911-03-01</td>\n",
       "      <td>Berlin</td>\n",
       "      <td>Germany</td>\n",
       "    </tr>\n",
       "    <tr>\n",
       "      <th>1</th>\n",
       "      <td>1901</td>\n",
       "      <td>Literature</td>\n",
       "      <td>The Nobel Prize in Literature 1901</td>\n",
       "      <td>\"in special recognition of his poetic composit...</td>\n",
       "      <td>1/1</td>\n",
       "      <td>569</td>\n",
       "      <td>Individual</td>\n",
       "      <td>Sully Prudhomme</td>\n",
       "      <td>1839-03-16</td>\n",
       "      <td>Paris</td>\n",
       "      <td>France</td>\n",
       "      <td>Male</td>\n",
       "      <td>NaN</td>\n",
       "      <td>NaN</td>\n",
       "      <td>NaN</td>\n",
       "      <td>1907-09-07</td>\n",
       "      <td>Châtenay</td>\n",
       "      <td>France</td>\n",
       "    </tr>\n",
       "    <tr>\n",
       "      <th>2</th>\n",
       "      <td>1901</td>\n",
       "      <td>Medicine</td>\n",
       "      <td>The Nobel Prize in Physiology or Medicine 1901</td>\n",
       "      <td>\"for his work on serum therapy, especially its...</td>\n",
       "      <td>1/1</td>\n",
       "      <td>293</td>\n",
       "      <td>Individual</td>\n",
       "      <td>Emil Adolf von Behring</td>\n",
       "      <td>1854-03-15</td>\n",
       "      <td>Hansdorf (Lawice)</td>\n",
       "      <td>Prussia (Poland)</td>\n",
       "      <td>Male</td>\n",
       "      <td>Marburg University</td>\n",
       "      <td>Marburg</td>\n",
       "      <td>Germany</td>\n",
       "      <td>1917-03-31</td>\n",
       "      <td>Marburg</td>\n",
       "      <td>Germany</td>\n",
       "    </tr>\n",
       "    <tr>\n",
       "      <th>3</th>\n",
       "      <td>1901</td>\n",
       "      <td>Peace</td>\n",
       "      <td>The Nobel Peace Prize 1901</td>\n",
       "      <td>NaN</td>\n",
       "      <td>1/2</td>\n",
       "      <td>462</td>\n",
       "      <td>Individual</td>\n",
       "      <td>Jean Henry Dunant</td>\n",
       "      <td>1828-05-08</td>\n",
       "      <td>Geneva</td>\n",
       "      <td>Switzerland</td>\n",
       "      <td>Male</td>\n",
       "      <td>NaN</td>\n",
       "      <td>NaN</td>\n",
       "      <td>NaN</td>\n",
       "      <td>1910-10-30</td>\n",
       "      <td>Heiden</td>\n",
       "      <td>Switzerland</td>\n",
       "    </tr>\n",
       "    <tr>\n",
       "      <th>4</th>\n",
       "      <td>1901</td>\n",
       "      <td>Peace</td>\n",
       "      <td>The Nobel Peace Prize 1901</td>\n",
       "      <td>NaN</td>\n",
       "      <td>1/2</td>\n",
       "      <td>463</td>\n",
       "      <td>Individual</td>\n",
       "      <td>Frédéric Passy</td>\n",
       "      <td>1822-05-20</td>\n",
       "      <td>Paris</td>\n",
       "      <td>France</td>\n",
       "      <td>Male</td>\n",
       "      <td>NaN</td>\n",
       "      <td>NaN</td>\n",
       "      <td>NaN</td>\n",
       "      <td>1912-06-12</td>\n",
       "      <td>Paris</td>\n",
       "      <td>France</td>\n",
       "    </tr>\n",
       "  </tbody>\n",
       "</table>\n",
       "</div>"
      ],
      "text/plain": [
       "   year    category                                           prize  \\\n",
       "0  1901   Chemistry               The Nobel Prize in Chemistry 1901   \n",
       "1  1901  Literature              The Nobel Prize in Literature 1901   \n",
       "2  1901    Medicine  The Nobel Prize in Physiology or Medicine 1901   \n",
       "3  1901       Peace                      The Nobel Peace Prize 1901   \n",
       "4  1901       Peace                      The Nobel Peace Prize 1901   \n",
       "\n",
       "                                          motivation prize_share  laureate_id  \\\n",
       "0  \"in recognition of the extraordinary services ...         1/1          160   \n",
       "1  \"in special recognition of his poetic composit...         1/1          569   \n",
       "2  \"for his work on serum therapy, especially its...         1/1          293   \n",
       "3                                                NaN         1/2          462   \n",
       "4                                                NaN         1/2          463   \n",
       "\n",
       "  laureate_type                     full_name  birth_date         birth_city  \\\n",
       "0    Individual  Jacobus Henricus van 't Hoff  1852-08-30          Rotterdam   \n",
       "1    Individual               Sully Prudhomme  1839-03-16              Paris   \n",
       "2    Individual        Emil Adolf von Behring  1854-03-15  Hansdorf (Lawice)   \n",
       "3    Individual             Jean Henry Dunant  1828-05-08             Geneva   \n",
       "4    Individual                Frédéric Passy  1822-05-20              Paris   \n",
       "\n",
       "      birth_country   sex   organization_name organization_city  \\\n",
       "0       Netherlands  Male   Berlin University            Berlin   \n",
       "1            France  Male                 NaN               NaN   \n",
       "2  Prussia (Poland)  Male  Marburg University           Marburg   \n",
       "3       Switzerland  Male                 NaN               NaN   \n",
       "4            France  Male                 NaN               NaN   \n",
       "\n",
       "  organization_country  death_date death_city death_country  \n",
       "0              Germany  1911-03-01     Berlin       Germany  \n",
       "1                  NaN  1907-09-07   Châtenay        France  \n",
       "2              Germany  1917-03-31    Marburg       Germany  \n",
       "3                  NaN  1910-10-30     Heiden   Switzerland  \n",
       "4                  NaN  1912-06-12      Paris        France  "
      ]
     },
     "execution_count": 6,
     "metadata": {},
     "output_type": "execute_result"
    }
   ],
   "source": [
    "#import dataset and see the dataframe structure\n",
    "df = pd.read_csv('nobel.csv')\n",
    "df.head()"
   ]
  },
  {
   "cell_type": "markdown",
   "id": "d871094e-528a-415d-af22-df0ca57e12e5",
   "metadata": {},
   "source": [
    "Analyze Nobel Prize winner data and identify patterns by answering the following questions: \n",
    "Question 1: What is the most commonly awarded gender and birth countr?\r\n",
    "\r\n",
    "Store your answers as string variables top_gender and top_country."
   ]
  },
  {
   "cell_type": "code",
   "execution_count": 8,
   "id": "f2037963-5bd9-4945-888f-62cd46a253db",
   "metadata": {},
   "outputs": [
    {
     "name": "stdout",
     "output_type": "stream",
     "text": [
      "\n",
      " The most commonly awarded gender is Male\n",
      "\n",
      " The most commonly awarded country is United States of America\n"
     ]
    }
   ],
   "source": [
    "#To find the most awarded gender, I will get the value counts on the respective columns and select the first on the list by index. This way, \n",
    "# I get to save my answers as series in a new variable.\n",
    "\n",
    "top_gender = df['sex'].value_counts().index[0]\n",
    "top_birth_country = df['birth_country'].value_counts().index[0]\n",
    "\n",
    "print('\\n The most commonly awarded gender is' + ' ' + top_gender)\n",
    "print('\\n The most commonly awarded country is' + ' ' + top_birth_country)"
   ]
  },
  {
   "cell_type": "markdown",
   "id": "1a4bde46-3724-47c5-8281-cd54bdb0b969",
   "metadata": {},
   "source": [
    "Question 2: Which decade had the highest ratio of US-born Nobel Prize winners to total winners in all categories?\r\n",
    "\r\n",
    "Store this as an integer called max_decade_usa.\r\n",
    "\r\n"
   ]
  },
  {
   "cell_type": "code",
   "execution_count": 16,
   "id": "64dcd206-394c-4243-b5d2-ea384a8fdf3b",
   "metadata": {},
   "outputs": [
    {
     "name": "stdout",
     "output_type": "stream",
     "text": [
      "2000\n"
     ]
    }
   ],
   "source": [
    "#To answer the above question, I'll first create a column for USA born winners, i'll create another column called decade to categorize years into their\n",
    "# Respective decades. I'll go further to calculate the average proportion of USA born winners in each decade, then i'll use the average proportion dataframe to filter the \n",
    "# maximum proportion in decades column and get the first value.\n",
    "\n",
    "df['usa_born'] = df['birth_country'] == 'United States of America'\n",
    "df['decade'] = (np.floor(df['year'] / 10) * 10).astype(int)\n",
    "avg_proport = df.groupby('decade', as_index = False)['usa_born'].mean()\n",
    "max_proportn = avg_proport[avg_proport['usa_born'] == avg_proport['usa_born'].max()]['decade'].values[0]\n",
    "\n",
    "print(max_proportn)"
   ]
  },
  {
   "cell_type": "code",
   "execution_count": 18,
   "id": "2ac9a491-4a55-46a7-98d0-816fa565e7ab",
   "metadata": {},
   "outputs": [
    {
     "data": {
      "text/plain": [
       "Text(0.5, 1.0, 'Proportion of USA born winners by decades')"
      ]
     },
     "execution_count": 18,
     "metadata": {},
     "output_type": "execute_result"
    },
    {
     "data": {
      "image/png": "[encoded data removed]",
      "text/plain": [
       "<Figure size 640x480 with 1 Axes>"
      ]
     },
     "metadata": {},
     "output_type": "display_data"
    }
   ],
   "source": [
    "# Here is a visualization of the highest proportion of USA winners by decades\n",
    "\n",
    "sns.barplot(x='decade', y='usa_born', data = avg_proport, hue = 'decade')\n",
    "plt.title('Proportion of USA born winners by decades')"
   ]
  },
  {
   "cell_type": "markdown",
   "id": "83911976-8819-445d-8479-b7a61ac80659",
   "metadata": {},
   "source": [
    "Question 3: Which decade and Nobel Prize category combination had the highest proportion of female laureates?\r\n",
    "\r\n",
    "Store this as a dictionary called max_female_dict where the decade is the key and the category is the value. There should only be one key:value pair."
   ]
  },
  {
   "cell_type": "code",
   "execution_count": 26,
   "id": "d620f642-b9d4-430d-a7ad-a7b7b04fff8b",
   "metadata": {},
   "outputs": [
    {
     "name": "stdout",
     "output_type": "stream",
     "text": [
      "{2020: 'Literature'}\n"
     ]
    }
   ],
   "source": [
    "#To answer the above question, I'll create a column for female winners, i'll calculate the average proportion of female winners and group by decade and category\n",
    "# i'll continue by calculating the highest proportion of female winners, and then storing the first values for decade and category in the required variable as key pair values in dictionary\n",
    "\n",
    "df['female_winners'] = df['sex'] == 'Female'\n",
    "fem_winners_prop = df.groupby(['decade', 'category'], as_index = False)['female_winners'].mean()\n",
    "max_femwinn_prop = fem_winners_prop[fem_winners_prop['female_winners'] == fem_winners_prop['female_winners'].max()][['decade', 'category']]\n",
    "max_female_dict = {max_femwinn_prop['decade'].values[0] : max_femwinn_prop['category'].values[0]}\n",
    "\n",
    "print(max_female_dict)"
   ]
  },
  {
   "cell_type": "code",
   "execution_count": 32,
   "id": "d1718010-9b88-4e72-a690-cba6f7271c06",
   "metadata": {},
   "outputs": [
    {
     "data": {
      "text/plain": [
       "Text(0.5, 1.0, 'Female winners by categories and decade')"
      ]
     },
     "execution_count": 32,
     "metadata": {},
     "output_type": "execute_result"
    },
    {
     "data": {
      "image/png": "[encoded data removed]",
      "text/plain": [
       "<Figure size 640x480 with 1 Axes>"
      ]
     },
     "metadata": {},
     "output_type": "display_data"
    }
   ],
   "source": [
    "# Below is the visualization for the decade with the highest female winners by category\n",
    "\n",
    "sns.barplot(x = 'decade', y = 'female_winners', data = fem_winners_prop, hue = 'category')\n",
    "plt.title('Female winners by categories and decade')"
   ]
  },
  {
   "cell_type": "markdown",
   "id": "9c396222-f3bb-4f8f-a8a9-18d34f3c77b9",
   "metadata": {},
   "source": [
    "Question 4: Who was the first woman to receive a Nobel Prize, and in what category?\r\n",
    "\r\n",
    "Save your string answers as first_woman_name and first_woman_category.\r\n",
    "\r\n"
   ]
  },
  {
   "cell_type": "code",
   "execution_count": 50,
   "id": "72ad44f8-d05b-46ad-9511-d1f511b730aa",
   "metadata": {},
   "outputs": [
    {
     "name": "stdout",
     "output_type": "stream",
     "text": [
      "\n",
      " The first woman to recieve a Nobel Price is :Marie Curie, née Sklodowska\n",
      "\n",
      " The category is :Physics\n"
     ]
    }
   ],
   "source": [
    "# To answer the above question,i'll select the female_winners column from df, i'll carry out conditional filtering on the year column to find the earliest date,\n",
    "# and from there i'll get the first woman and first category\n",
    "\n",
    "first_woman_np = df[df['female_winners']]\n",
    "\n",
    "first_woman_year = first_woman_np[first_woman_np['year'] == first_woman_np['year'].min()]\n",
    "\n",
    "first_woman_name = first_woman_np['full_name'].values[0]\n",
    "first_woman_category = first_woman_year['category'].values[0]\n",
    "\n",
    "print('\\n The first woman to recieve a Nobel Price is :' + first_woman_name)\n",
    "print('\\n The category is :' + first_woman_category)\n"
   ]
  },
  {
   "cell_type": "markdown",
   "id": "6246cb15-f12d-48ce-8d0c-53fddfe32267",
   "metadata": {},
   "source": [
    "Question 5: Which individuals or organizations have won more than one Nobel Prize throughout the years?\r\n",
    "\r\n",
    "Store the full names in a list named repeat_list."
   ]
  },
  {
   "cell_type": "code",
   "execution_count": 58,
   "id": "40a03202-61e2-4d8c-83b6-fe064b6be729",
   "metadata": {},
   "outputs": [
    {
     "name": "stdout",
     "output_type": "stream",
     "text": [
      "['Comité international de la Croix Rouge (International Committee of the Red Cross)', 'Linus Carl Pauling', 'John Bardeen', 'Frederick Sanger', 'Marie Curie, née Sklodowska', 'Office of the United Nations High Commissioner for Refugees (UNHCR)']\n"
     ]
    }
   ],
   "source": [
    "# To answer the above question i'll first subset the dataframe to get the full_name column and count each names, \n",
    "# then i'll create a variable to count any name frequency greater or equal to 2, and lastly, i'll save it as a list\n",
    "\n",
    "wins = df['full_name'].value_counts()\n",
    "count_wins = wins[wins >= 2].index\n",
    "repeat_list = list(count_wins)\n",
    "\n",
    "print(repeat_list)"
   ]
  },
  {
   "cell_type": "markdown",
   "id": "6a7790c4-93fd-426a-9222-597eaf69b9a9",
   "metadata": {},
   "source": [
    "Contact Me: deborahokorohdavid@gmail.com"
   ]
  }
 ],
 "metadata": {
  "kernelspec": {
   "display_name": "Python 3 (ipykernel)",
   "language": "python",
   "name": "python3"
  },
  "language_info": {
   "codemirror_mode": {
    "name": "ipython",
    "version": 3
   },
   "file_extension": ".py",
   "mimetype": "text/x-python",
   "name": "python",
   "nbconvert_exporter": "python",
   "pygments_lexer": "ipython3",
   "version": "3.12.4"
  }
 },
 "nbformat": 4,
 "nbformat_minor": 5
}
